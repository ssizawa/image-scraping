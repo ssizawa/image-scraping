{
  "nbformat": 4,
  "nbformat_minor": 0,
  "metadata": {
    "colab": {
      "provenance": [],
      "machine_shape": "hm",
      "include_colab_link": true
    },
    "kernelspec": {
      "name": "python3",
      "display_name": "Python 3"
    },
    "language_info": {
      "name": "python"
    },
    "accelerator": "GPU",
    "gpuClass": "standard"
  },
  "cells": [
    {
      "cell_type": "markdown",
      "metadata": {
        "id": "view-in-github",
        "colab_type": "text"
      },
      "source": [
        "<a href=\"https://colab.research.google.com/github/ssizawa/image-scraping/blob/main/scraping.ipynb\" target=\"_parent\"><img src=\"https://colab.research.google.com/assets/colab-badge.svg\" alt=\"Open In Colab\"/></a>"
      ]
    },
    {
      "cell_type": "code",
      "execution_count": null,
      "metadata": {
        "id": "cy7RLhCGZF80"
      },
      "outputs": [],
      "source": [
        "import requests\n",
        "import urllib.request\n",
        "import re\n",
        "from bs4 import BeautifulSoup"
      ]
    },
    {
      "cell_type": "code",
      "source": [
        "n=94\n",
        "furniture=[]\n",
        "for i in range(n):\n",
        "  if i==0:\n",
        "    page_url='https://www.houzz.com/products/armchairs-and-accent-chairs/material_fabric--Polyester'\n",
        "  else:\n",
        "    page_url='https://www.houzz.com/products/armchairs-and-accent-chairs/material_fabric--Polyester/p/%s'%(i*36)\n",
        "\n",
        "  # print(page_url)\n",
        "\n",
        "  r = requests.get(page_url)\n",
        "\n",
        "  soup = BeautifulSoup(r.text, 'html.parser')\n",
        "  # soup.find_all('img', class_=' hz-image hz-responsive-img')\n",
        "  img_tags=soup.find_all('a',  class_=re.compile('ProductTitle'))\n",
        "\n",
        "  # print(img_tags)\n",
        "\n",
        "  img_urls = []\n",
        "\n",
        "  for img_tag in img_tags:\n",
        "    url = img_tag.get(\"href\")\n",
        "    if url != None:\n",
        "      img_urls.append(url)\n",
        "\n",
        "  # print(img_urls)  # ダウンロードする写真データのurl\n",
        "\n",
        "  m=150 # スクレイピングする画像数\n",
        "  for fur_urls in img_urls:\n",
        "    fr=requests.get(fur_urls)\n",
        "    fur_soup=BeautifulSoup(fr.text, 'html.parser')\n",
        "    fur_tags=fur_soup.find_all('img',  class_='view-product-image-print visible-print-block')\n",
        "\n",
        "    for fur_tag in fur_tags:      \n",
        "      fur_url=fur_tag.get(\"src\")\n",
        "      break\n",
        "    \n",
        "    if fur_url != None:\n",
        "      furniture.append(fur_url)\n",
        "\n",
        "    if len(furniture)==m:\n",
        "      break\n",
        "\n",
        "  print(len(furniture))\n",
        "\n",
        "  if len(furniture)==m:\n",
        "     break"
      ],
      "metadata": {
        "id": "4kpQIOxdYiu-"
      },
      "execution_count": null,
      "outputs": []
    },
    {
      "cell_type": "code",
      "source": [
        "def download_image(url, file_path):\n",
        "  r = requests.get(url, stream=True)\n",
        "\n",
        "  if r.status_code == 200:\n",
        "    with open(file_path, \"wb\") as f:\n",
        "      f.write(r.content)"
      ],
      "metadata": {
        "id": "5lesMN4OyGol"
      },
      "execution_count": null,
      "outputs": []
    },
    {
      "cell_type": "code",
      "source": [
        "# ダウンロード先ファイルの参照(google drive用)\n",
        "import os\n",
        "from google.colab import drive\n",
        "drive.mount('./gdrive')\n",
        "\n",
        "google_drive_save_dir = \"./gdrive/My Drive/Kansei/chair_concatenate/Polyester\"\n",
        "\n",
        "for index, url in enumerate(furniture):\n",
        "  # if (index+1)%6==0:\n",
        "  #   google_drive_save_dir = \"./gdrive/My Drive/Kansei/chair_material_v2/val/Chenille\"\n",
        "  # elif (index+1)%6==1:\n",
        "  #   google_drive_save_dir = \"./gdrive/My Drive/Kansei/chair_material_v2/test/Chenille\"\n",
        "  # else:\n",
        "  #   google_drive_save_dir = \"./gdrive/My Drive/Kansei/chair_material_v2/train/Chenille\"\n",
        "    \n",
        "  file_name = \"{}.jpg\".format(index+1)\n",
        "\n",
        "  print(file_name)\n",
        "  image_path = os.path.join(google_drive_save_dir, file_name)\n",
        "  print(image_path)\n",
        "\n",
        "  download_image(url=url, file_path=image_path)"
      ],
      "metadata": {
        "id": "SB9L2AXayKTu"
      },
      "execution_count": null,
      "outputs": []
    },
    {
      "cell_type": "code",
      "source": [
        "#valにコピーを保存\n",
        "import glob\n",
        "import os\n",
        "import shutil\n",
        "# from google.colab import drive\n",
        "# drive.mount('./gdrive')\n",
        "\n",
        "for i in range(1, 121):\n",
        "\n",
        "  google_drive_save_dir = './gdrive/My Drive/Kansei/Armchairs_and_Accent_Chairs/train/Barrel_Chairs/%s.jpg'%(i*5)\n",
        "\n",
        "  files = glob.glob(google_drive_save_dir)\n",
        "\n",
        "  for file in files:\n",
        "      try:\n",
        "          new_file_path = file.replace('/train/Barrel_Chairs/', '/val/Barrel_Chairs/')\n",
        "          shutil.move(file, new_file_path)\n",
        "\n",
        "          # new_file_path = '/val/Wingback_Chairs/'\n",
        "          # shutil.move(file, new_file_path)\n",
        "\n",
        "\n",
        "      except FileNotFoundError:\n",
        "          pass\n",
        "\n",
        "      except OSError:\n",
        "          pass"
      ],
      "metadata": {
        "id": "VCyujbn0hZ60"
      },
      "execution_count": null,
      "outputs": []
    }
  ]
}